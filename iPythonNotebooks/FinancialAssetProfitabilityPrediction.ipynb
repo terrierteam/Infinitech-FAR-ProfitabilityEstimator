{
 "cells": [
  {
   "cell_type": "markdown",
   "metadata": {},
   "source": [
    "# Financial Asset Recommender: Profitability Predication\n",
    "\n",
    "## Introduction\n",
    "\n",
    "This notebook is aimed to serve as an introduction to the creation of a recommender that operates on an open dataset of stock market prices in order to recommend profitable assets. It covers the data download and processing steps, the calculation of the features fed into the prediction model, and finally a simple model that predicts the profitability of assets to rank them. \n",
    "\n",
    "Before we get started, we need to confgure where we are to store the dataset and models produced. If you are running this notebook locally, then any folder on your machine should be fine. If you are working within a container, you may need to change the directory to a mounted writable file system."
   ]
  },
  {
   "cell_type": "code",
   "execution_count": 9,
   "metadata": {},
   "outputs": [],
   "source": [
    "# Local Mode\n",
    "storageDIR = \"dataset\" # creates a dataset directory in the same folder as the notebook\n",
    "\n",
    "# Container Mode\n",
    "#storageDIR = \"/tmp/dataset\" # creates a dataset directory in the /tmp/ directory for the container"
   ]
  },
  {
   "cell_type": "markdown",
   "metadata": {},
   "source": [
    "## Dataset\n",
    "\n",
    "Different types of financial asset recommendation system use different types of data to prodice their recommendations. This approach is known as Profitability Prediction, where assets that are predicted to gain significant value over the following year are recommended. This type of approach uses past pricing data, i.e. the price for different assets over time to identify pricing trends and hence future profitable assets. Hence, as input we need a dataset that for a range of assets contains their price history over time.\n",
    "\n",
    "For illustration, in this notebook we will use an open dataset, although you may wish to swap this for data from your market of choice. The dataset used here is the Huge Stock Market Dataset compiled by Boris Marjanovic, and is publically available <b><a href='https://www.kaggle.com/borismarjanovic/price-volume-data-for-all-us-stocks-etfs'>here</a>.</b>\n",
    "\n",
    "The dataset comprises historical price and volume data for all US-based stocks and ETFs trading on the NYSE, NASDAQ, and NYSE markets, and runs up to the last quarter of 2017. For each financial asset (stock or ETF), it contains a series of price entries describing the market price of that asset on different days. Each entry is comprised of:\n",
    " - Date: The date of the pricing data \n",
    " - Open: Opening price for that day\n",
    " - High: The maximum price for that day\n",
    " - Low: The minimum price for that day\n",
    " - Close: The closing price for that day\n",
    " - Volume: The amount of the asset that is traded \n",
    " - OpenInt: The total number of outstanding contracts held by market participants\n",
    "\n",
    "## Downloading the Dataset\n",
    "\n",
    "This dataset can be downloaded through the <b><a href='https://github.com/Kaggle/kaggle-api'>Kaggle API</a></b>. Users should make an account on the Kaggle website and download an API token in order to access this dataset on their local machine. This is available from the Account section of the Kaggle user profile.\n",
    "\n",
    "To use the Kaggle API, we first install the package through pip. We then export the username and the API key from the aforementioned token, and use the download command to fetch and unzip the dataset. For our current experiment we will use only the set of Stocks.\n",
    "\n",
    "(The below commands can also be entered directly into your terminal, without the ! prefix.)"
   ]
  },
  {
   "cell_type": "code",
   "execution_count": 21,
   "metadata": {},
   "outputs": [
    {
     "name": "stdout",
     "output_type": "stream",
     "text": [
      "Requirement already satisfied: kaggle in c:\\programdata\\anaconda3\\lib\\site-packages (1.5.12)\n",
      "Requirement already satisfied: certifi in c:\\programdata\\anaconda3\\lib\\site-packages (from kaggle) (2019.11.28)\n",
      "Requirement already satisfied: urllib3 in c:\\programdata\\anaconda3\\lib\\site-packages (from kaggle) (1.25.8)\n",
      "Requirement already satisfied: requests in c:\\programdata\\anaconda3\\lib\\site-packages (from kaggle) (2.22.0)\n",
      "Requirement already satisfied: tqdm in c:\\programdata\\anaconda3\\lib\\site-packages (from kaggle) (4.42.1)\n",
      "Requirement already satisfied: python-slugify in c:\\programdata\\anaconda3\\lib\\site-packages (from kaggle) (5.0.2)\n",
      "Requirement already satisfied: python-dateutil in c:\\programdata\\anaconda3\\lib\\site-packages (from kaggle) (2.8.1)\n",
      "Requirement already satisfied: six>=1.10 in c:\\programdata\\anaconda3\\lib\\site-packages (from kaggle) (1.14.0)\n",
      "Requirement already satisfied: idna<2.9,>=2.5 in c:\\programdata\\anaconda3\\lib\\site-packages (from requests->kaggle) (2.8)\n",
      "Requirement already satisfied: chardet<3.1.0,>=3.0.2 in c:\\programdata\\anaconda3\\lib\\site-packages (from requests->kaggle) (3.0.4)\n",
      "Requirement already satisfied: text-unidecode>=1.3 in c:\\programdata\\anaconda3\\lib\\site-packages (from python-slugify->kaggle) (1.3)\n",
      "Download Complete\n"
     ]
    }
   ],
   "source": [
    "import os\n",
    "os.environ[\"KAGGLE_USERNAME\"] = \"yourKaggleUsername\"\n",
    "os.environ[\"KAGGLE_KEY\"] = \"yourKaggleAPIKey\"\n",
    "\n",
    "!pip install kaggle\n",
    "from kaggle.api.kaggle_api_extended import KaggleApi\n",
    "api = KaggleApi()\n",
    "api.authenticate()\n",
    "api.dataset_download_files('borismarjanovic/price-volume-data-for-all-us-stocks-etfs', path=storageDIR)\n",
    "print(\"Download Complete\")"
   ]
  },
  {
   "cell_type": "markdown",
   "metadata": {},
   "source": [
    "## Extracting and Loading the Dataset\n",
    "\n",
    "After downloading the dataset we need to extract the files and then convert it into a Pandas DataFrame, which is somewhat like a large data table that makes the raw data easier to analyse. "
   ]
  },
  {
   "cell_type": "code",
   "execution_count": 4,
   "metadata": {},
   "outputs": [
    {
     "name": "stdout",
     "output_type": "stream",
     "text": [
      "Dataset Extraction and Loading as Dataframe Complete\n"
     ]
    }
   ],
   "source": [
    "import zipfile\n",
    "import pandas as pd\n",
    "import numpy as np\n",
    "import glob, os, random, math\n",
    "\n",
    "# Unzip the Dataset\n",
    "with zipfile.ZipFile(storageDIR+\"/price-volume-data-for-all-us-stocks-etfs.zip\", 'r') as zip_ref:\n",
    "    zip_ref.extractall(storageDIR)\n",
    "\n",
    "# Replace this with your dataset path\n",
    "path = storageDIR+'/Stocks/' \n",
    "all_files = glob.glob(os.path.join(path, \"*.us.txt\"))\n",
    "dfs = []\n",
    "\n",
    "# Iterating through files and only using non-empty files\n",
    "for f in all_files:\n",
    "    if os.path.getsize(f) > 0:\n",
    "        df = pd.read_csv(f) \n",
    "        df['Stock'] = f.split('/')[-1].split('.')[0]\n",
    "        dfs.append(df)\n",
    "full_kaggle_df = pd.concat(dfs)\n",
    "\n",
    "print(\"Dataset Extraction and Loading as Dataframe Complete\")"
   ]
  },
  {
   "cell_type": "markdown",
   "metadata": {},
   "source": [
    "## Filtering the Dataset\n",
    "\n",
    "Pandas allows us to perform manipulations on the pricing data so that we can extract only what we need for training the model. For the purpose of our illustration, we will only use pricing data from 2016 and 2017, where we consider 2016 as the 'past' and hence we can use that period for learning what assets are likely to be profitable, and 2017 as the future (which we will use to test how well our model performs later). In effect, for our experiment here we can consider an the date of asset recommendation to be the 1st of January 2017. \n",
    "\n",
    "Lets first filter the dataset to only hold data from the dates we care about:"
   ]
  },
  {
   "cell_type": "code",
   "execution_count": 5,
   "metadata": {},
   "outputs": [],
   "source": [
    "# We only require the date, stock name, and closing price for that day\n",
    "full_kaggle_df = full_kaggle_df[['Date', 'Close', 'Stock']]\n",
    "full_kaggle_df['Date'] = pd.to_datetime(full_kaggle_df['Date'])\n",
    "full_kaggle_df['year'] = full_kaggle_df['Date'].dt.year\n",
    "full_kaggle_df['month'] = full_kaggle_df['Date'].dt.month\n",
    "full_kaggle_df['day'] = full_kaggle_df['Date'].dt.day\n",
    "\n",
    "# Selecting only that data from either 2016 or 2017\n",
    "full_kaggle_df = full_kaggle_df[(full_kaggle_df['year'] >= 2016)].drop(columns=['year', 'month', 'day'])\n",
    "full_kaggle_df['Date'] = full_kaggle_df['Date'].dt.strftime('%Y-%m-%d')\n",
    "\n",
    "print(\"Dataset Filtering Complete\")"
   ]
  },
  {
   "cell_type": "markdown",
   "metadata": {},
   "source": [
    "## Weekly Price Change Calculation\n",
    "\n",
    "Now that we have our data, we need to convert it into a form that makes it easier to work with. In this case, we can convert pricing data over time into weekly price changes for each asset. This makes the data more closely match what we want as output, while also enabling data normalization over the daily price points (which can help avoid outliers and in cases where particular days are missing in the data). In particular, we find the closing price for each stock as per the Monday of each week. We calculate the weekly return of each stock after aggregating close prices weekly. This is defined as the percentage change in the weekly prices and is represented as follows:\n",
    "\n",
    "\\begin{equation}\n",
    "WeeklyChange = \\frac{Current \\ closing \\ price \\ - \\ Preceding \\ closing \\ price}{Preceding \\ closing \\ price}\n",
    "\\end{equation}\n",
    "\n",
    "Note that this step can take some time...\n"
   ]
  },
  {
   "cell_type": "code",
   "execution_count": 6,
   "metadata": {},
   "outputs": [
    {
     "name": "stderr",
     "output_type": "stream",
     "text": [
      "C:\\ProgramData\\Anaconda3\\lib\\site-packages\\ipykernel_launcher.py:5: SettingWithCopyWarning: \n",
      "A value is trying to be set on a copy of a slice from a DataFrame.\n",
      "Try using .loc[row_indexer,col_indexer] = value instead\n",
      "\n",
      "See the caveats in the documentation: https://pandas.pydata.org/pandas-docs/stable/user_guide/indexing.html#returning-a-view-versus-a-copy\n",
      "  \"\"\"\n"
     ]
    }
   ],
   "source": [
    "stocks = full_kaggle_df['Stock'].unique().tolist()\n",
    "pricedfs = []\n",
    "for s in stocks:\n",
    "    df = full_kaggle_df[full_kaggle_df['Stock'] == s]\n",
    "    df['Date'] = pd.to_datetime(df['Date']) - pd.to_timedelta(7, unit='d')\n",
    "    \n",
    "    #Grouping close prices weekly\n",
    "    df = df.groupby(['Stock', pd.Grouper(key='Date', freq='W-MON')])['Close'].nth(-1).reset_index().sort_values('Date')\n",
    "\n",
    "    #Calculating percentage change in asset prices as returns\n",
    "    df['returns'] = df['Close'].pct_change()\n",
    "    df['returns'] = df['returns'].replace([np.inf, -np.inf], np.nan)\n",
    "    df['returns'] = df['returns'].fillna(df['returns'].mean())\n",
    "    \n",
    "    df = df.iloc[1:]\n",
    "    pricedfs.append(df)\n",
    "    \n",
    "print(\"Dataset Price Changes Extracted\")"
   ]
  },
  {
   "cell_type": "markdown",
   "metadata": {},
   "source": [
    "Below we show a sample DataFrame with weekly returns calculated."
   ]
  },
  {
   "cell_type": "code",
   "execution_count": 7,
   "metadata": {},
   "outputs": [
    {
     "data": {
      "text/html": [
       "<div>\n",
       "<style scoped>\n",
       "    .dataframe tbody tr th:only-of-type {\n",
       "        vertical-align: middle;\n",
       "    }\n",
       "\n",
       "    .dataframe tbody tr th {\n",
       "        vertical-align: top;\n",
       "    }\n",
       "\n",
       "    .dataframe thead th {\n",
       "        text-align: right;\n",
       "    }\n",
       "</style>\n",
       "<table border=\"1\" class=\"dataframe\">\n",
       "  <thead>\n",
       "    <tr style=\"text-align: right;\">\n",
       "      <th></th>\n",
       "      <th>Stock</th>\n",
       "      <th>Date</th>\n",
       "      <th>Close</th>\n",
       "      <th>returns</th>\n",
       "    </tr>\n",
       "  </thead>\n",
       "  <tbody>\n",
       "    <tr>\n",
       "      <th>1</th>\n",
       "      <td>Stocks\\a</td>\n",
       "      <td>2016-01-04</td>\n",
       "      <td>37.278</td>\n",
       "      <td>-0.067560</td>\n",
       "    </tr>\n",
       "    <tr>\n",
       "      <th>2</th>\n",
       "      <td>Stocks\\a</td>\n",
       "      <td>2016-01-11</td>\n",
       "      <td>36.463</td>\n",
       "      <td>-0.021863</td>\n",
       "    </tr>\n",
       "    <tr>\n",
       "      <th>3</th>\n",
       "      <td>Stocks\\a</td>\n",
       "      <td>2016-01-18</td>\n",
       "      <td>36.952</td>\n",
       "      <td>0.013411</td>\n",
       "    </tr>\n",
       "    <tr>\n",
       "      <th>4</th>\n",
       "      <td>Stocks\\a</td>\n",
       "      <td>2016-01-25</td>\n",
       "      <td>37.031</td>\n",
       "      <td>0.002138</td>\n",
       "    </tr>\n",
       "    <tr>\n",
       "      <th>5</th>\n",
       "      <td>Stocks\\a</td>\n",
       "      <td>2016-02-01</td>\n",
       "      <td>34.193</td>\n",
       "      <td>-0.076638</td>\n",
       "    </tr>\n",
       "  </tbody>\n",
       "</table>\n",
       "</div>"
      ],
      "text/plain": [
       "      Stock       Date   Close   returns\n",
       "1  Stocks\\a 2016-01-04  37.278 -0.067560\n",
       "2  Stocks\\a 2016-01-11  36.463 -0.021863\n",
       "3  Stocks\\a 2016-01-18  36.952  0.013411\n",
       "4  Stocks\\a 2016-01-25  37.031  0.002138\n",
       "5  Stocks\\a 2016-02-01  34.193 -0.076638"
      ]
     },
     "execution_count": 7,
     "metadata": {},
     "output_type": "execute_result"
    }
   ],
   "source": [
    "pricedfs[0].head()"
   ]
  },
  {
   "cell_type": "markdown",
   "metadata": {},
   "source": [
    "We then filter the dataframes with 2016 pricing data for training purposes and those with 9 months of 2017 pricing data for testing, and take a random sample of 1000 assets from the filtered subset to speed up the experiment."
   ]
  },
  {
   "cell_type": "code",
   "execution_count": 10,
   "metadata": {},
   "outputs": [],
   "source": [
    "# Filtering those dataframes with 2016 pricing data for training\n",
    "newdfs_training = []\n",
    "\n",
    "for d in pricedfs:\n",
    "    d['Date'] = pd.to_datetime(d['Date'])\n",
    "    d['year'] = d['Date'].dt.year\n",
    "    d['month'] = d['Date'].dt.month\n",
    "    d['day'] = d['Date'].dt.day\n",
    "\n",
    "    d = d[(d['year'] == 2016)].drop(columns=['year', 'month', 'day'])\n",
    "    d['Date'] = d['Date'].dt.strftime('%Y-%m-%d')\n",
    "    if d.shape[0] >= 52:\n",
    "        newdfs_training.append(d)\n",
    "        \n",
    "#Randomly sampling assets\n",
    "random.seed(20)\n",
    "newdfs_training = random.sample(newdfs_training, 1000)\n",
    "\n",
    "# ==============================================================\n",
    "# Filtering those dataframes with 2017 pricing data for testing\n",
    "\n",
    "newdfs_test = []\n",
    "\n",
    "for d in pricedfs:\n",
    "    d['Date'] = pd.to_datetime(d['Date'])\n",
    "    d['year'] = d['Date'].dt.year\n",
    "    d['month'] = d['Date'].dt.month\n",
    "    d['day'] = d['Date'].dt.day\n",
    "\n",
    "    d = d[(d['year'] == 2017) & ((d['month'] != 10) & (d['month'] != 11) & \n",
    "                                 (d['month'] != 12))].drop(columns=['year', 'month', 'day'])\n",
    "    d['Date'] = d['Date'].dt.strftime('%Y-%m-%d')\n",
    "    if d.shape[0] >= 39:\n",
    "        newdfs_test.append(d)\n",
    "        \n",
    "#Randomly sampling assets\n",
    "random.seed(20)\n",
    "newdfs_test = random.sample(newdfs_test, 1000)\n",
    "\n",
    "print(\"Dataset Divided into Training and Test Sets\")"
   ]
  },
  {
   "cell_type": "markdown",
   "metadata": {},
   "source": [
    "## Feature Creation for the Model\n",
    "\n",
    "Now that we have the pricing data in a more useful form, we can now convert that data into additional indicators that a machine learned model can use for identifying patterns/trends. In effect, we want to capture how the price for an asset changed in the recent past, for use as indicators for future performance (of course past performance is not always a good indicator, and more advanced approaches may mix in other sources of evidence here). We convert the pricing data into three main indicator (feature) types:\n",
    "\n",
    "<ul>\n",
    "    <li> Average closing price </li>\n",
    "    <li> Return on Investment </li>\n",
    "    <li> Volatility </li>\n",
    "</ul>\n",
    "\n",
    "These are calculated over the last 3, 6, and 9 months from the point in time at which recommendations are requested.\n",
    "\n",
    "Returns are calculated as follows over each specified period:\n",
    "\n",
    "\\begin{equation}\n",
    "Return On Investment = \\frac{Final \\ closing \\ price \\ - \\ Initial \\ closing \\ price}{Initial \\ closing \\ price}\n",
    "\\end{equation}\n",
    "\n",
    "Volatility represent the risk of a stock as expressed by its fluctuations, and is expressed as the standard deviation of the returns of the stock. As our returns are calculated weekly, we also ensure our volatilities are converted into 3-month, 6-month, and 9-month estimates.\n",
    "\n",
    "\\begin{equation}\n",
    "Volatility = \\sqrt{\\frac{1}{N-1} \\sum_{i=1}^N (Return_i - \\overline{Return})^2} * \\sqrt{Number \\ of \\ weeks}\n",
    "\\end{equation}\n"
   ]
  },
  {
   "cell_type": "code",
   "execution_count": 12,
   "metadata": {},
   "outputs": [
    {
     "name": "stdout",
     "output_type": "stream",
     "text": [
      "Dataset Pricing Trend Features Extracted\n"
     ]
    }
   ],
   "source": [
    "\n",
    "def calculate_features(newdfs):\n",
    "    dfs = []\n",
    "    for d in newdfs:\n",
    "        d['Date'] = pd.to_datetime(d['Date'])\n",
    "        df3m = d.set_index('Date').last('3M')\n",
    "        d['avg_price_3m'] = df3m['Close'].mean()\n",
    "        d['volatility_3m'] = df3m['returns'].std() * math.sqrt(13.0357)\n",
    "        d['returns_3m'] = (df3m.tail(1)['Close'].values[0] - df3m.head(1)['Close'].values[0])/df3m.head(1)['Close'].values[0]\n",
    "\n",
    "        df6m = d.set_index('Date').last('6M')\n",
    "        d['avg_price_6m'] = df6m['Close'].mean()\n",
    "        d['volatility_6m'] = df6m['returns'].std() * math.sqrt(26.0715)\n",
    "        d['returns_6m'] = (df6m.tail(1)['Close'].values[0] - df6m.head(1)['Close'].values[0])/df6m.head(1)['Close'].values[0]\n",
    "\n",
    "        df9m = d.set_index('Date').last('9M')\n",
    "        d['avg_price_9m'] = df9m['Close'].mean()\n",
    "        d['volatility_9m'] = df9m['returns'].std() * math.sqrt(39.1072)\n",
    "        d['returns_9m'] = (df9m.tail(1)['Close'].values[0] - df9m.head(1)['Close'].values[0])/df9m.head(1)['Close'].values[0]\n",
    "\n",
    "        d = d.head(1)\n",
    "        dfs.append(d)\n",
    "\n",
    "    all_feature_dfs = pd.concat(dfs)\n",
    "    all_feature_dfs = all_feature_dfs.drop(columns=['Date', 'Close', 'returns'])\n",
    "    all_feature_dfs.dropna(inplace=True)\n",
    "    return all_feature_dfs\n",
    "\n",
    "\n",
    "training_data = calculate_features(newdfs_training)\n",
    "\n",
    "# Enter your training dataset path here\n",
    "training_data.to_csv(storageDIR+'/Kaggle-2016-Training-Final.csv')\n",
    "\n",
    "test_data = calculate_features(newdfs_test)\n",
    "\n",
    "# Enter your test dataset path here\n",
    "test_data.to_csv(storageDIR+'/Kaggle-2017-Test-Final.csv')\n",
    "\n",
    "print(\"Dataset Pricing Trend Features Extracted\")\n"
   ]
  },
  {
   "cell_type": "markdown",
   "metadata": {},
   "source": [
    "## Profitability prediction model - Random forest regression\n",
    "\n",
    "After having curated our training and testing sets, we proceed to use a simple machine learning model to predict the 9-month profitability of assets from the test dataset. The model we choose is a Random Forest model. This is imported from the Scikit-Learn library, which is a commonly used package for introductory machine learning experiments and houses a wide variety of models. A random forest regression model is an ensemble model, which means that it combines the predictions of multiple machine learning models in order to improve prediction accuracy and avoid overfitting. A random forest model aggregates decision trees and takes the average of their predictions or probabilities for classes; decision trees are supervised models that attempt to infer simple decision rules from the features and use these to make predictions.\n",
    "\n",
    "Random forests introduce randomness from two other sources, namely that each tree is built with a random sample from the training set, and that the splitting of nodes during tree construction is either found from all features or from a random subset of the maximum permitted number of features. These sources of randomness are intended to minimize the impact of each singular decision tree's sensitivity. \n",
    "\n",
    "Here, we use the training and test data we just prepared and apply a scaler to them so that their values are standardized for prediction. We then apply a random forest regressor model with 500 estimators (decision trees) to calculate predicted returns over a 9-month period. "
   ]
  },
  {
   "cell_type": "code",
   "execution_count": 14,
   "metadata": {},
   "outputs": [],
   "source": [
    "from sklearn.ensemble import RandomForestRegressor\n",
    "from sklearn.preprocessing import StandardScaler\n",
    "\n",
    "# Using precomputed data\n",
    "training_data = pd.read_csv(storageDIR+'/Kaggle-2016-Training-Final.csv')\n",
    "test_data = pd.read_csv(storageDIR+'/Kaggle-2017-Test-Final.csv')\n",
    "\n",
    "train_instrument_ids = training_data['Stock']\n",
    "returns_9m = training_data['returns_9m']\n",
    "training_data = training_data.drop(columns=['Stock', 'returns_9m'])\n",
    "\n",
    "test_instrument_ids = test_data['Stock']\n",
    "test_returns_9m = test_data['returns_9m']\n",
    "test_vol_9m = test_data['volatility_9m']\n",
    "test_data = test_data.drop(columns=['Stock', 'returns_9m'])\n",
    "\n",
    "# Scaling data values\n",
    "scaler = StandardScaler()\n",
    "scaled_data = scaler.fit_transform(training_data)\n",
    "\n",
    "scaler = StandardScaler()\n",
    "scaled_test = scaler.fit_transform(test_data)\n",
    "\n",
    "# Prediction\n",
    "model = RandomForestRegressor(n_estimators=500)\n",
    "model.fit(scaled_data, returns_9m)\n",
    "pred = model.predict(scaled_test)\n",
    "\n",
    "pred_df = pd.DataFrame(pred)\n",
    "pred_df = pred_df.rename(columns={0: 'Predicted returns'})\n",
    "pred_df['Stock'] = pd.Series(test_instrument_ids)\n",
    "pred_df['Actual returns (9M)'] = test_returns_9m\n",
    "pred_df['Actual Volatility (9M)'] = test_vol_9m"
   ]
  },
  {
   "cell_type": "markdown",
   "metadata": {},
   "source": [
    "## Model Effectiveness Evaluation\n",
    "\n",
    "After the prediction of returns, we proceed onto the evaluation of our model. We can do so by means of more classical metrics that assess the difference between actual and predicted values; we can also look at the aggregate profitability and volatility of the recommended assets over the test period as a measure of suitability. "
   ]
  },
  {
   "cell_type": "code",
   "execution_count": 15,
   "metadata": {},
   "outputs": [
    {
     "data": {
      "text/html": [
       "<div>\n",
       "<style scoped>\n",
       "    .dataframe tbody tr th:only-of-type {\n",
       "        vertical-align: middle;\n",
       "    }\n",
       "\n",
       "    .dataframe tbody tr th {\n",
       "        vertical-align: top;\n",
       "    }\n",
       "\n",
       "    .dataframe thead th {\n",
       "        text-align: right;\n",
       "    }\n",
       "</style>\n",
       "<table border=\"1\" class=\"dataframe\">\n",
       "  <thead>\n",
       "    <tr style=\"text-align: right;\">\n",
       "      <th></th>\n",
       "      <th>Predicted returns</th>\n",
       "      <th>Stock</th>\n",
       "      <th>Actual returns (9M)</th>\n",
       "      <th>Actual Volatility (9M)</th>\n",
       "    </tr>\n",
       "  </thead>\n",
       "  <tbody>\n",
       "    <tr>\n",
       "      <th>298</th>\n",
       "      <td>2.704236</td>\n",
       "      <td>Stocks\\zgnx</td>\n",
       "      <td>2.050980</td>\n",
       "      <td>1.940495</td>\n",
       "    </tr>\n",
       "    <tr>\n",
       "      <th>224</th>\n",
       "      <td>2.287230</td>\n",
       "      <td>Stocks\\abeo</td>\n",
       "      <td>1.933884</td>\n",
       "      <td>0.860671</td>\n",
       "    </tr>\n",
       "    <tr>\n",
       "      <th>506</th>\n",
       "      <td>2.263269</td>\n",
       "      <td>Stocks\\arwr</td>\n",
       "      <td>1.354497</td>\n",
       "      <td>0.631877</td>\n",
       "    </tr>\n",
       "    <tr>\n",
       "      <th>429</th>\n",
       "      <td>2.251566</td>\n",
       "      <td>Stocks\\sppi</td>\n",
       "      <td>2.081023</td>\n",
       "      <td>0.620670</td>\n",
       "    </tr>\n",
       "    <tr>\n",
       "      <th>398</th>\n",
       "      <td>2.226679</td>\n",
       "      <td>Stocks\\wprt</td>\n",
       "      <td>1.488189</td>\n",
       "      <td>0.726520</td>\n",
       "    </tr>\n",
       "    <tr>\n",
       "      <th>402</th>\n",
       "      <td>2.224329</td>\n",
       "      <td>Stocks\\cyrx</td>\n",
       "      <td>1.966049</td>\n",
       "      <td>0.636090</td>\n",
       "    </tr>\n",
       "    <tr>\n",
       "      <th>150</th>\n",
       "      <td>2.199163</td>\n",
       "      <td>Stocks\\ensv</td>\n",
       "      <td>0.037037</td>\n",
       "      <td>0.849338</td>\n",
       "    </tr>\n",
       "    <tr>\n",
       "      <th>705</th>\n",
       "      <td>2.107315</td>\n",
       "      <td>Stocks\\xxii</td>\n",
       "      <td>2.140152</td>\n",
       "      <td>0.738352</td>\n",
       "    </tr>\n",
       "    <tr>\n",
       "      <th>772</th>\n",
       "      <td>2.102616</td>\n",
       "      <td>Stocks\\qure</td>\n",
       "      <td>0.761017</td>\n",
       "      <td>0.604679</td>\n",
       "    </tr>\n",
       "    <tr>\n",
       "      <th>513</th>\n",
       "      <td>2.093745</td>\n",
       "      <td>Stocks\\sify</td>\n",
       "      <td>0.942658</td>\n",
       "      <td>0.496918</td>\n",
       "    </tr>\n",
       "  </tbody>\n",
       "</table>\n",
       "</div>"
      ],
      "text/plain": [
       "     Predicted returns        Stock  Actual returns (9M)  \\\n",
       "298           2.704236  Stocks\\zgnx             2.050980   \n",
       "224           2.287230  Stocks\\abeo             1.933884   \n",
       "506           2.263269  Stocks\\arwr             1.354497   \n",
       "429           2.251566  Stocks\\sppi             2.081023   \n",
       "398           2.226679  Stocks\\wprt             1.488189   \n",
       "402           2.224329  Stocks\\cyrx             1.966049   \n",
       "150           2.199163  Stocks\\ensv             0.037037   \n",
       "705           2.107315  Stocks\\xxii             2.140152   \n",
       "772           2.102616  Stocks\\qure             0.761017   \n",
       "513           2.093745  Stocks\\sify             0.942658   \n",
       "\n",
       "     Actual Volatility (9M)  \n",
       "298                1.940495  \n",
       "224                0.860671  \n",
       "506                0.631877  \n",
       "429                0.620670  \n",
       "398                0.726520  \n",
       "402                0.636090  \n",
       "150                0.849338  \n",
       "705                0.738352  \n",
       "772                0.604679  \n",
       "513                0.496918  "
      ]
     },
     "execution_count": 15,
     "metadata": {},
     "output_type": "execute_result"
    }
   ],
   "source": [
    "pred_df = pred_df.sort_values(by='Predicted returns', ascending=False)\n",
    "pred_df.head(10)"
   ]
  },
  {
   "cell_type": "markdown",
   "metadata": {},
   "source": [
    "In the above table, we are showing the top 10 stocks that were predicted to be profitable. The last two columns report the actual return on investment after 9 months and asset volitility. Note that a return value of 1.5 means a 150% return on investment. \n",
    "\n",
    "We notice that predicted returns for the top stocks are exceedingly high, which is not ordinary. However, we can also see that the actual returns for these stocks are similar for several of these instances, i.e. the model is not wrong in predicting these as profitable investments in the short term. However, we can also see that the volitility fo these stocks is very high, i.e. these are 'high-risk' assets that may subsequently crash in price. \n",
    "\n",
    "We can also analyse the statistics for this predictions across the dataset."
   ]
  },
  {
   "cell_type": "code",
   "execution_count": 16,
   "metadata": {},
   "outputs": [
    {
     "data": {
      "text/html": [
       "<div>\n",
       "<style scoped>\n",
       "    .dataframe tbody tr th:only-of-type {\n",
       "        vertical-align: middle;\n",
       "    }\n",
       "\n",
       "    .dataframe tbody tr th {\n",
       "        vertical-align: top;\n",
       "    }\n",
       "\n",
       "    .dataframe thead th {\n",
       "        text-align: right;\n",
       "    }\n",
       "</style>\n",
       "<table border=\"1\" class=\"dataframe\">\n",
       "  <thead>\n",
       "    <tr style=\"text-align: right;\">\n",
       "      <th></th>\n",
       "      <th>Predicted returns</th>\n",
       "      <th>Actual returns (9M)</th>\n",
       "      <th>Actual Volatility (9M)</th>\n",
       "    </tr>\n",
       "  </thead>\n",
       "  <tbody>\n",
       "    <tr>\n",
       "      <th>count</th>\n",
       "      <td>1000.000000</td>\n",
       "      <td>1000.000000</td>\n",
       "      <td>1000.000000</td>\n",
       "    </tr>\n",
       "    <tr>\n",
       "      <th>mean</th>\n",
       "      <td>0.291667</td>\n",
       "      <td>0.117710</td>\n",
       "      <td>0.279499</td>\n",
       "    </tr>\n",
       "    <tr>\n",
       "      <th>std</th>\n",
       "      <td>0.545248</td>\n",
       "      <td>0.440275</td>\n",
       "      <td>0.270453</td>\n",
       "    </tr>\n",
       "    <tr>\n",
       "      <th>min</th>\n",
       "      <td>-0.858322</td>\n",
       "      <td>-0.998589</td>\n",
       "      <td>0.008209</td>\n",
       "    </tr>\n",
       "    <tr>\n",
       "      <th>25%</th>\n",
       "      <td>0.019777</td>\n",
       "      <td>-0.027597</td>\n",
       "      <td>0.108639</td>\n",
       "    </tr>\n",
       "    <tr>\n",
       "      <th>50%</th>\n",
       "      <td>0.199883</td>\n",
       "      <td>0.073051</td>\n",
       "      <td>0.210807</td>\n",
       "    </tr>\n",
       "    <tr>\n",
       "      <th>75%</th>\n",
       "      <td>0.463422</td>\n",
       "      <td>0.214930</td>\n",
       "      <td>0.364167</td>\n",
       "    </tr>\n",
       "    <tr>\n",
       "      <th>max</th>\n",
       "      <td>2.704236</td>\n",
       "      <td>7.232558</td>\n",
       "      <td>3.707981</td>\n",
       "    </tr>\n",
       "  </tbody>\n",
       "</table>\n",
       "</div>"
      ],
      "text/plain": [
       "       Predicted returns  Actual returns (9M)  Actual Volatility (9M)\n",
       "count        1000.000000          1000.000000             1000.000000\n",
       "mean            0.291667             0.117710                0.279499\n",
       "std             0.545248             0.440275                0.270453\n",
       "min            -0.858322            -0.998589                0.008209\n",
       "25%             0.019777            -0.027597                0.108639\n",
       "50%             0.199883             0.073051                0.210807\n",
       "75%             0.463422             0.214930                0.364167\n",
       "max             2.704236             7.232558                3.707981"
      ]
     },
     "execution_count": 16,
     "metadata": {},
     "output_type": "execute_result"
    }
   ],
   "source": [
    "pred_df.describe()"
   ]
  },
  {
   "cell_type": "markdown",
   "metadata": {},
   "source": [
    "Here we are able to see the average returns and volatility of the entire test set. \n",
    "\n",
    "We can also examine the predicted returns and volatility over the top 1, 5, 10, and 20 stocks, ranked by their predicted profitability. This will serve to provide an idea of how financially feasible our recommendations are, and whether the recommended stocks are an improvement to the average returns of the test set."
   ]
  },
  {
   "cell_type": "code",
   "execution_count": 17,
   "metadata": {},
   "outputs": [
    {
     "data": {
      "text/html": [
       "<div>\n",
       "<style scoped>\n",
       "    .dataframe tbody tr th:only-of-type {\n",
       "        vertical-align: middle;\n",
       "    }\n",
       "\n",
       "    .dataframe tbody tr th {\n",
       "        vertical-align: top;\n",
       "    }\n",
       "\n",
       "    .dataframe thead th {\n",
       "        text-align: right;\n",
       "    }\n",
       "</style>\n",
       "<table border=\"1\" class=\"dataframe\">\n",
       "  <thead>\n",
       "    <tr style=\"text-align: right;\">\n",
       "      <th></th>\n",
       "      <th>Number of assets</th>\n",
       "      <th>Mean returns (9M), in %</th>\n",
       "      <th>Mean volatility (9M), in %</th>\n",
       "    </tr>\n",
       "  </thead>\n",
       "  <tbody>\n",
       "    <tr>\n",
       "      <th>0</th>\n",
       "      <td>1</td>\n",
       "      <td>205.098039</td>\n",
       "      <td>194.049514</td>\n",
       "    </tr>\n",
       "    <tr>\n",
       "      <th>1</th>\n",
       "      <td>5</td>\n",
       "      <td>178.171489</td>\n",
       "      <td>95.604667</td>\n",
       "    </tr>\n",
       "    <tr>\n",
       "      <th>2</th>\n",
       "      <td>10</td>\n",
       "      <td>147.554883</td>\n",
       "      <td>81.056093</td>\n",
       "    </tr>\n",
       "    <tr>\n",
       "      <th>3</th>\n",
       "      <td>20</td>\n",
       "      <td>123.460761</td>\n",
       "      <td>77.108316</td>\n",
       "    </tr>\n",
       "  </tbody>\n",
       "</table>\n",
       "</div>"
      ],
      "text/plain": [
       "   Number of assets  Mean returns (9M), in %  Mean volatility (9M), in %\n",
       "0                 1               205.098039                  194.049514\n",
       "1                 5               178.171489                   95.604667\n",
       "2                10               147.554883                   81.056093\n",
       "3                20               123.460761                   77.108316"
      ]
     },
     "execution_count": 17,
     "metadata": {},
     "output_type": "execute_result"
    }
   ],
   "source": [
    "\n",
    "ret_vol = pd.DataFrame({'Number of assets': [1, 5, 10, 20], 'Mean returns (9M), in %': [pred_df.head(1)['Actual returns (9M)'].mean(),\n",
    "                        pred_df.head(5)['Actual returns (9M)'].mean(), \n",
    "                        pred_df.head(10)['Actual returns (9M)'].mean(),\n",
    "                        pred_df.head(20)['Actual returns (9M)'].mean()], \n",
    "                        'Mean volatility (9M), in %': [pred_df.head(1)['Actual Volatility (9M)'].mean(), \n",
    "                                                pred_df.head(5)['Actual Volatility (9M)'].mean(),\n",
    "                                                pred_df.head(10)['Actual Volatility (9M)'].mean(),\n",
    "                                                pred_df.head(20)['Actual Volatility (9M)'].mean()]\n",
    "                       })\n",
    "ret_vol['Mean returns (9M), in %'] *= 100\n",
    "ret_vol['Mean volatility (9M), in %'] *= 100\n",
    "\n",
    "ret_vol"
   ]
  },
  {
   "cell_type": "markdown",
   "metadata": {},
   "source": [
    "The returns and volatility for the top stocks, ranked by predicted returns, are far higher than their averages across the test set. This indicates that ranking assets by their predicted returns can produce some highly profitable but risk-laden investment recommendations, which might be suitable for aggressive investors. However, it remains to be seen how much of this is owed to fluctuations and outliers in the data, and perhaps even if there are better ways to capture the returns and volatility of the dataset.\n",
    "\n",
    "Next, we look at the differences between the actual and predicted returns."
   ]
  },
  {
   "cell_type": "code",
   "execution_count": 18,
   "metadata": {},
   "outputs": [
    {
     "data": {
      "image/png": "[encoded data removed]",
      "text/plain": [
       "<Figure size 720x720 with 1 Axes>"
      ]
     },
     "metadata": {
      "needs_background": "light"
     },
     "output_type": "display_data"
    }
   ],
   "source": [
    "import matplotlib.pyplot as plt\n",
    "import seaborn as sns\n",
    "\n",
    "plt.figure(figsize=(10,10))\n",
    "sns.regplot(pred_df['Actual returns (9M)'], pred_df['Predicted returns'])\n",
    "plt.show()"
   ]
  },
  {
   "cell_type": "code",
   "execution_count": 19,
   "metadata": {},
   "outputs": [
    {
     "data": {
      "image/png": "[encoded data removed]",
      "text/plain": [
       "<Figure size 720x720 with 1 Axes>"
      ]
     },
     "metadata": {
      "needs_background": "light"
     },
     "output_type": "display_data"
    }
   ],
   "source": [
    "plt.figure(figsize=(10,10))\n",
    "plt.plot(pred_df['Actual returns (9M)'] - pred_df['Predicted returns'] ,marker='o', linestyle='', c='crimson')\n",
    "plt.xlabel('Observations', fontsize=15)\n",
    "plt.ylabel('Difference between true and predicted returns', fontsize=15)\n",
    "plt.show()"
   ]
  },
  {
   "cell_type": "markdown",
   "metadata": {},
   "source": [
    "Lastly, we can examine the mean absolute error and mean squared error of the predictions. As these can be quite dependent on the dataset and problem in question, we also assume a simple baseline, by taking the median of all stock returns from the test dataset. We then compare the results of applying these metrics to the baseline and our predictor model."
   ]
  },
  {
   "cell_type": "code",
   "execution_count": 20,
   "metadata": {},
   "outputs": [
    {
     "data": {
      "text/html": [
       "<div>\n",
       "<style scoped>\n",
       "    .dataframe tbody tr th:only-of-type {\n",
       "        vertical-align: middle;\n",
       "    }\n",
       "\n",
       "    .dataframe tbody tr th {\n",
       "        vertical-align: top;\n",
       "    }\n",
       "\n",
       "    .dataframe thead th {\n",
       "        text-align: right;\n",
       "    }\n",
       "</style>\n",
       "<table border=\"1\" class=\"dataframe\">\n",
       "  <thead>\n",
       "    <tr style=\"text-align: right;\">\n",
       "      <th></th>\n",
       "      <th>Metric</th>\n",
       "      <th>Baseline (median return)</th>\n",
       "      <th>Random forest regression</th>\n",
       "      <th>Percentage difference</th>\n",
       "    </tr>\n",
       "  </thead>\n",
       "  <tbody>\n",
       "    <tr>\n",
       "      <th>0</th>\n",
       "      <td>MAE</td>\n",
       "      <td>0.394475</td>\n",
       "      <td>0.259137</td>\n",
       "      <td>-0.343083</td>\n",
       "    </tr>\n",
       "    <tr>\n",
       "      <th>1</th>\n",
       "      <td>MSE</td>\n",
       "      <td>0.344792</td>\n",
       "      <td>0.200128</td>\n",
       "      <td>-0.419568</td>\n",
       "    </tr>\n",
       "  </tbody>\n",
       "</table>\n",
       "</div>"
      ],
      "text/plain": [
       "  Metric  Baseline (median return)  Random forest regression  \\\n",
       "0    MAE                  0.394475                  0.259137   \n",
       "1    MSE                  0.344792                  0.200128   \n",
       "\n",
       "   Percentage difference  \n",
       "0              -0.343083  \n",
       "1              -0.419568  "
      ]
     },
     "execution_count": 20,
     "metadata": {},
     "output_type": "execute_result"
    }
   ],
   "source": [
    "from sklearn.metrics import mean_absolute_error, mean_squared_error\n",
    "\n",
    "\n",
    "testlist = pd.Series([test_returns_9m.median()]*1000)\n",
    "\n",
    "mae_mse = pd.DataFrame({'Metric': ['MAE', 'MSE'], \n",
    "                        'Baseline (median return)': [mean_absolute_error(pred, testlist),\n",
    "                                                     mean_squared_error(pred, testlist)], \n",
    "                       'Random forest regression': [mean_absolute_error(pred, test_returns_9m), \n",
    "                                                   mean_squared_error(pred, test_returns_9m)] \n",
    "                       })\n",
    "\n",
    "mae_mse['Percentage difference'] = (mae_mse['Random forest regression'] - \n",
    "                                    mae_mse['Baseline (median return)'])/mae_mse['Baseline (median return)']\n",
    "\n",
    "\n",
    "mae_mse"
   ]
  },
  {
   "cell_type": "markdown",
   "metadata": {},
   "source": [
    "We can see from this that the random forest model presents an improvement (reduction) in both MAE and MSE."
   ]
  },
  {
   "cell_type": "code",
   "execution_count": null,
   "metadata": {},
   "outputs": [],
   "source": []
  }
 ],
 "metadata": {
  "kernelspec": {
   "display_name": "Python 3",
   "language": "python",
   "name": "python3"
  },
  "language_info": {
   "codemirror_mode": {
    "name": "ipython",
    "version": 3
   },
   "file_extension": ".py",
   "mimetype": "text/x-python",
   "name": "python",
   "nbconvert_exporter": "python",
   "pygments_lexer": "ipython3",
   "version": "3.7.6"
  }
 },
 "nbformat": 4,
 "nbformat_minor": 2
}
